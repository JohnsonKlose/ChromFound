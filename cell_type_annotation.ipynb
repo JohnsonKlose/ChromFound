{
 "cells": [
  {
   "cell_type": "code",
   "execution_count": 1,
   "id": "480a00d0-336c-4e35-b25c-724da20a3aa8",
   "metadata": {},
   "outputs": [],
   "source": [
    "import os\n",
    "import subprocess\n",
    "import sys"
   ]
  },
  {
   "cell_type": "code",
   "execution_count": 2,
   "id": "b7b05a1b-f62e-4919-ab79-d800f6838d80",
   "metadata": {
    "tags": []
   },
   "outputs": [],
   "source": [
    "# Configuration for running cell embedding inference\n",
    "# - pretrain_checkpoint_path: Directory containing the pretrained model checkpoint\n",
    "# - pretrain_model_name: File name of the pretrained model\n",
    "# - pretrain_config_file: Configuration file used for model architecture and settings\n",
    "# - batch_size: Batch size for inference\n",
    "# - device: GPU device ID for computation\n",
    "# - output_path: Directory to save the inferred cell embeddings\n",
    "ATAC_FILE_PATH = \"src/sample_data/PBMC169K\"\n",
    "inference_config = {\n",
    "    \"pretrain_checkpoint_path\": \"checkpoints\",\n",
    "    \"pretrain_model_name\": \"model.pt\",\n",
    "    \"pretrain_config_file\": \"chromfd_pretrain.yaml\",\n",
    "    \"batch_size\": 8,\n",
    "    \"device\": 1,\n",
    "    \"output_path\": str(os.path.join(ATAC_FILE_PATH, \"cell_embedding\")),\n",
    "    \"train_file_path\": str(os.path.join(ATAC_FILE_PATH, \"atac_pbmc_benchmark_EPF_hydrop_1_qc_deepen_norm_log.h5ad\")),\n",
    "    \"test_file_path\": str(os.path.join(ATAC_FILE_PATH, \"atac_pbmc_benchmark_VIB_10xv1_1_qc_deepen_norm_log.h5ad\")),\n",
    "    \"log_path\": str(os.path.join(ATAC_FILE_PATH, \"cell_type_annotation\"))\n",
    "}"
   ]
  },
  {
   "cell_type": "code",
   "id": "1a6b065a-22e8-487a-8682-4ae508da4382",
   "metadata": {},
   "source": [
    "train_command = [\n",
    "    sys.executable, '-m', 'src.cell_type_annotation',\n",
    "    '--local_rank', f'{inference_config[\"device\"]}',\n",
    "    '--batch_size', f'{inference_config[\"batch_size\"]}',\n",
    "    '--learning_rate', '0.0003',\n",
    "    '--pretrain_checkpoint_path', inference_config['pretrain_checkpoint_path'],\n",
    "    '--pretrain_model_file', inference_config['pretrain_model_name'],\n",
    "    '--pretrain_config_file', inference_config['pretrain_config_file'],\n",
    "    '--batch_size', f'{inference_config[\"batch_size\"]}',\n",
    "    '--epoch', '5',\n",
    "    '--train_file_path', inference_config[\"train_file_path\"],\n",
    "    '--test_file_path', inference_config[\"test_file_path\"],\n",
    "    '--log_path', inference_config[\"log_path\"],\n",
    "    '--cell_type_col', 'celltype'\n",
    "]\n",
    "\n",
    "subprocess.run(train_command)"
   ],
   "outputs": [],
   "execution_count": null
  },
  {
   "cell_type": "code",
   "execution_count": null,
   "id": "1580697a-feb9-473a-a3d1-12f9b02f149d",
   "metadata": {},
   "outputs": [],
   "source": []
  }
 ],
 "metadata": {
  "kernelspec": {
   "display_name": "scgpt_env",
   "language": "python",
   "name": "scgpt_env"
  },
  "language_info": {
   "codemirror_mode": {
    "name": "ipython",
    "version": 3
   },
   "file_extension": ".py",
   "mimetype": "text/x-python",
   "name": "python",
   "nbconvert_exporter": "python",
   "pygments_lexer": "ipython3",
   "version": "3.10.15"
  }
 },
 "nbformat": 4,
 "nbformat_minor": 5
}
